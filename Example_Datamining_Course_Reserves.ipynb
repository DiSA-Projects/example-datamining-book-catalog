{
  "nbformat": 4,
  "nbformat_minor": 0,
  "metadata": {
    "colab": {
      "provenance": []
    },
    "kernelspec": {
      "name": "python3",
      "display_name": "Python 3"
    },
    "language_info": {
      "name": "python"
    }
  },
  "cells": [
    {
      "cell_type": "markdown",
      "source": [
        "# Data Mining and Search Tools\n",
        "### Working with Record and Catalog wrappers for Python dataframes\n",
        "Created by Neil Aitken, UBC Digital Scholarship in the Arts\n",
        "\n",
        "In this scenario, we have been given access to the data dump of an online course reserve database in the form of either an Excel spreadsheet (xlsx) or comma-separated values (csv) file. This file is then read into a dataframe structure using pandas library.\n",
        "\n",
        "This notebook shows how to define and use the Record and Catalog objects to wrap the dataframe so that we can access the data and produce reports in a more intuitive way.\n"
      ],
      "metadata": {
        "id": "YB7gxIUGx7um"
      }
    },
    {
      "cell_type": "markdown",
      "source": [
        "### Import code libraries for file access, csv, and data parsing and analysis"
      ],
      "metadata": {
        "id": "8LkydAdJSgAW"
      }
    },
    {
      "cell_type": "code",
      "execution_count": 2,
      "metadata": {
        "id": "WS4PIYfGxZk9"
      },
      "outputs": [],
      "source": [
        "import os\n",
        "import pandas as pd"
      ]
    },
    {
      "cell_type": "markdown",
      "source": [
        "Define the external datafile (csv or xlsx)"
      ],
      "metadata": {
        "id": "1EbMxlZCOwET"
      }
    },
    {
      "cell_type": "code",
      "source": [
        "DATA_FILE = 'course_reserve_dataset.csv'"
      ],
      "metadata": {
        "id": "YTCdrsHYO1qy"
      },
      "execution_count": 3,
      "outputs": []
    },
    {
      "cell_type": "markdown",
      "source": [
        "### Upload a data file containing LOCR info (CSV or Excel format)"
      ],
      "metadata": {
        "id": "i9IwZ3xjSv7Z"
      }
    },
    {
      "cell_type": "code",
      "source": [
        "from google.colab import files\n",
        "uploaded = files.upload()"
      ],
      "metadata": {
        "colab": {
          "base_uri": "https://localhost:8080/",
          "height": 73
        },
        "id": "dU7RhduW2NK0",
        "outputId": "cc03aa6b-6c9f-47d5-ec9c-ca5c3c06b0cd"
      },
      "execution_count": 4,
      "outputs": [
        {
          "output_type": "display_data",
          "data": {
            "text/plain": [
              "<IPython.core.display.HTML object>"
            ],
            "text/html": [
              "\n",
              "     <input type=\"file\" id=\"files-9a1fd562-e7d5-400a-a362-dcba4dc9bf8a\" name=\"files[]\" multiple disabled\n",
              "        style=\"border:none\" />\n",
              "     <output id=\"result-9a1fd562-e7d5-400a-a362-dcba4dc9bf8a\">\n",
              "      Upload widget is only available when the cell has been executed in the\n",
              "      current browser session. Please rerun this cell to enable.\n",
              "      </output>\n",
              "      <script>// Copyright 2017 Google LLC\n",
              "//\n",
              "// Licensed under the Apache License, Version 2.0 (the \"License\");\n",
              "// you may not use this file except in compliance with the License.\n",
              "// You may obtain a copy of the License at\n",
              "//\n",
              "//      http://www.apache.org/licenses/LICENSE-2.0\n",
              "//\n",
              "// Unless required by applicable law or agreed to in writing, software\n",
              "// distributed under the License is distributed on an \"AS IS\" BASIS,\n",
              "// WITHOUT WARRANTIES OR CONDITIONS OF ANY KIND, either express or implied.\n",
              "// See the License for the specific language governing permissions and\n",
              "// limitations under the License.\n",
              "\n",
              "/**\n",
              " * @fileoverview Helpers for google.colab Python module.\n",
              " */\n",
              "(function(scope) {\n",
              "function span(text, styleAttributes = {}) {\n",
              "  const element = document.createElement('span');\n",
              "  element.textContent = text;\n",
              "  for (const key of Object.keys(styleAttributes)) {\n",
              "    element.style[key] = styleAttributes[key];\n",
              "  }\n",
              "  return element;\n",
              "}\n",
              "\n",
              "// Max number of bytes which will be uploaded at a time.\n",
              "const MAX_PAYLOAD_SIZE = 100 * 1024;\n",
              "\n",
              "function _uploadFiles(inputId, outputId) {\n",
              "  const steps = uploadFilesStep(inputId, outputId);\n",
              "  const outputElement = document.getElementById(outputId);\n",
              "  // Cache steps on the outputElement to make it available for the next call\n",
              "  // to uploadFilesContinue from Python.\n",
              "  outputElement.steps = steps;\n",
              "\n",
              "  return _uploadFilesContinue(outputId);\n",
              "}\n",
              "\n",
              "// This is roughly an async generator (not supported in the browser yet),\n",
              "// where there are multiple asynchronous steps and the Python side is going\n",
              "// to poll for completion of each step.\n",
              "// This uses a Promise to block the python side on completion of each step,\n",
              "// then passes the result of the previous step as the input to the next step.\n",
              "function _uploadFilesContinue(outputId) {\n",
              "  const outputElement = document.getElementById(outputId);\n",
              "  const steps = outputElement.steps;\n",
              "\n",
              "  const next = steps.next(outputElement.lastPromiseValue);\n",
              "  return Promise.resolve(next.value.promise).then((value) => {\n",
              "    // Cache the last promise value to make it available to the next\n",
              "    // step of the generator.\n",
              "    outputElement.lastPromiseValue = value;\n",
              "    return next.value.response;\n",
              "  });\n",
              "}\n",
              "\n",
              "/**\n",
              " * Generator function which is called between each async step of the upload\n",
              " * process.\n",
              " * @param {string} inputId Element ID of the input file picker element.\n",
              " * @param {string} outputId Element ID of the output display.\n",
              " * @return {!Iterable<!Object>} Iterable of next steps.\n",
              " */\n",
              "function* uploadFilesStep(inputId, outputId) {\n",
              "  const inputElement = document.getElementById(inputId);\n",
              "  inputElement.disabled = false;\n",
              "\n",
              "  const outputElement = document.getElementById(outputId);\n",
              "  outputElement.innerHTML = '';\n",
              "\n",
              "  const pickedPromise = new Promise((resolve) => {\n",
              "    inputElement.addEventListener('change', (e) => {\n",
              "      resolve(e.target.files);\n",
              "    });\n",
              "  });\n",
              "\n",
              "  const cancel = document.createElement('button');\n",
              "  inputElement.parentElement.appendChild(cancel);\n",
              "  cancel.textContent = 'Cancel upload';\n",
              "  const cancelPromise = new Promise((resolve) => {\n",
              "    cancel.onclick = () => {\n",
              "      resolve(null);\n",
              "    };\n",
              "  });\n",
              "\n",
              "  // Wait for the user to pick the files.\n",
              "  const files = yield {\n",
              "    promise: Promise.race([pickedPromise, cancelPromise]),\n",
              "    response: {\n",
              "      action: 'starting',\n",
              "    }\n",
              "  };\n",
              "\n",
              "  cancel.remove();\n",
              "\n",
              "  // Disable the input element since further picks are not allowed.\n",
              "  inputElement.disabled = true;\n",
              "\n",
              "  if (!files) {\n",
              "    return {\n",
              "      response: {\n",
              "        action: 'complete',\n",
              "      }\n",
              "    };\n",
              "  }\n",
              "\n",
              "  for (const file of files) {\n",
              "    const li = document.createElement('li');\n",
              "    li.append(span(file.name, {fontWeight: 'bold'}));\n",
              "    li.append(span(\n",
              "        `(${file.type || 'n/a'}) - ${file.size} bytes, ` +\n",
              "        `last modified: ${\n",
              "            file.lastModifiedDate ? file.lastModifiedDate.toLocaleDateString() :\n",
              "                                    'n/a'} - `));\n",
              "    const percent = span('0% done');\n",
              "    li.appendChild(percent);\n",
              "\n",
              "    outputElement.appendChild(li);\n",
              "\n",
              "    const fileDataPromise = new Promise((resolve) => {\n",
              "      const reader = new FileReader();\n",
              "      reader.onload = (e) => {\n",
              "        resolve(e.target.result);\n",
              "      };\n",
              "      reader.readAsArrayBuffer(file);\n",
              "    });\n",
              "    // Wait for the data to be ready.\n",
              "    let fileData = yield {\n",
              "      promise: fileDataPromise,\n",
              "      response: {\n",
              "        action: 'continue',\n",
              "      }\n",
              "    };\n",
              "\n",
              "    // Use a chunked sending to avoid message size limits. See b/62115660.\n",
              "    let position = 0;\n",
              "    do {\n",
              "      const length = Math.min(fileData.byteLength - position, MAX_PAYLOAD_SIZE);\n",
              "      const chunk = new Uint8Array(fileData, position, length);\n",
              "      position += length;\n",
              "\n",
              "      const base64 = btoa(String.fromCharCode.apply(null, chunk));\n",
              "      yield {\n",
              "        response: {\n",
              "          action: 'append',\n",
              "          file: file.name,\n",
              "          data: base64,\n",
              "        },\n",
              "      };\n",
              "\n",
              "      let percentDone = fileData.byteLength === 0 ?\n",
              "          100 :\n",
              "          Math.round((position / fileData.byteLength) * 100);\n",
              "      percent.textContent = `${percentDone}% done`;\n",
              "\n",
              "    } while (position < fileData.byteLength);\n",
              "  }\n",
              "\n",
              "  // All done.\n",
              "  yield {\n",
              "    response: {\n",
              "      action: 'complete',\n",
              "    }\n",
              "  };\n",
              "}\n",
              "\n",
              "scope.google = scope.google || {};\n",
              "scope.google.colab = scope.google.colab || {};\n",
              "scope.google.colab._files = {\n",
              "  _uploadFiles,\n",
              "  _uploadFilesContinue,\n",
              "};\n",
              "})(self);\n",
              "</script> "
            ]
          },
          "metadata": {}
        },
        {
          "output_type": "stream",
          "name": "stdout",
          "text": [
            "Saving course_reserve_dataset.csv to course_reserve_dataset.csv\n"
          ]
        }
      ]
    },
    {
      "cell_type": "markdown",
      "source": [
        "### Define load functions: *load_csv()* and *load_excel()*"
      ],
      "metadata": {
        "id": "Q5B6nKMmTBau"
      }
    },
    {
      "cell_type": "code",
      "source": [
        "# Load csv file and returns dataframe\n",
        "def load_csv(fname):\n",
        "   import pandas as pd\n",
        "   return pd.read_csv(fname)\n",
        "\n",
        "# Load excel file and returns dataframe\n",
        "def load_excel(fname):\n",
        "  import pandas as pd\n",
        "  return pd.read_excel(fname)\n",
        "\n",
        "# Load file and determine if Excel or csv, then return dataframe\n",
        "def load_datafile(fname):\n",
        "  start = len(fname)-5\n",
        "  if start < 0:\n",
        "    start = 0\n",
        "  num_periods = fname.count('.',start,len(fname))\n",
        "  if num_periods == 1:\n",
        "    name,extension = fname.split('.')\n",
        "    if extension == 'xlsx' or extension == 'xls':\n",
        "      print('Excel sheet')\n",
        "      return load_excel(fname)\n",
        "    else:\n",
        "      print('CSV doc')\n",
        "      return load_csv(fname)\n",
        "  elif num_periods == 0:\n",
        "    print('Filename should have a .csv, .txt, or .xlsx extension')\n",
        "  else:\n",
        "    print('Filename is improperly formatted. Please rename and ensure it is a CSV or Excel file')\n",
        "  return None\n",
        "\n"
      ],
      "metadata": {
        "id": "mEyrwg-L2Jgs"
      },
      "execution_count": 5,
      "outputs": []
    },
    {
      "cell_type": "code",
      "source": [
        "# ==============================================================\n",
        "# RECORD - an object wrapper for each record in the dataset\n",
        "# ==============================================================\n",
        "\n",
        "class Record:\n",
        "    # Setup Record from row from a dataframe\n",
        "    def __init__(self,keys,datalist):\n",
        "        i = 0\n",
        "        self.keys = keys\n",
        "\n",
        "        for val in datalist:\n",
        "            setattr(self,str(keys[i]),val)\n",
        "            i+=1\n",
        "\n",
        "        # Each entry in the course reserves data has a course code and course number stored separately.\n",
        "        # We combine them to form the course ID and store it in the record as a new field to save time\n",
        "        try:\n",
        "          self.course_id = str(getattr(self,'Course code'))+' '+str(self.Coursenumber)\n",
        "        except:\n",
        "          print(f'Keys = {keys}')\n",
        "\n",
        "    # Set/reset the record using the column names and row data from a row\n",
        "    def read(self,headers,series):\n",
        "      for hd in headers:\n",
        "        setattr(self,hd,series[hd])\n",
        "\n",
        "    # Return the value for a given key/field, or return everything if given \"all\"\n",
        "    def get(self,rkey='all'):\n",
        "        if rkey == 'all' or not rkey in vars(self):\n",
        "            result =''\n",
        "            for key in vars(self):\n",
        "                result = result +'\\n' + getattr(self,key)\n",
        "            return result\n",
        "        else:\n",
        "            return getattr(self,rkey)\n",
        "\n",
        "    # Check to see if the record contains a given value or partial search string\n",
        "    def has_str(self,searchstr):\n",
        "        import re\n",
        "        for key in vars(self):\n",
        "            strmatch = re.search(searchstr,self.get(key))\n",
        "            if not strmatch==None:\n",
        "                return True\n",
        "        return False\n",
        "\n",
        "    # Return the contents of the record as a printable string, either in brief format, just the keys, or containing everything\n",
        "    def dump(self,rkey='all'):\n",
        "        if rkey=='brief':\n",
        "            result = '\"'+str(self.Title)+',\" '+str(self.Author)+', '+str(getattr(self,'Call number'))+' '+str(self.course_id)\n",
        "        elif rkey == 'all' or not rkey in vars(self):\n",
        "            for key in vars(self):\n",
        "                if not key == 'keys':\n",
        "                    result = key+': '+str(getattr(self,key))\n",
        "        elif rkey=='keys':\n",
        "            result = self.keys\n",
        "        else:\n",
        "          result = rkey+': '+str(getattr(self,rkey))\n",
        "        return result\n",
        "\n",
        "    # Print the contents of the record to the terminal\n",
        "    def print(self,rkey='all'):\n",
        "      print(self.dump(rkey))\n",
        "\n",
        "\n",
        "# ==============================================================\n",
        "# CATALOG - An object wrapper for managing a set of Records\n",
        "# ==============================================================\n",
        "class Catalog:\n",
        "    # Setup Catalog by reading in a dataframe and all its contents as Records\n",
        "    def __init__(self,df):\n",
        "        self.dataframe = df\n",
        "        self.catalog = []\n",
        "        self.keys = df.columns\n",
        "        for ind in range(0,len(df)):\n",
        "             record = Record(self.keys,list(df.loc[ind]))\n",
        "             self.catalog.append(record)\n",
        "\n",
        "    # Print the catalog's records by dumping the contents of each record\n",
        "    def print(self,key='all'):\n",
        "        for ind in range(0,len(self.catalog)):\n",
        "            print(self.catalog[ind].print(key))\n",
        "\n",
        "    # Return the catalog\n",
        "    def get(self):\n",
        "        return self.catalog\n",
        "\n",
        "    # Sort catalog based on field (ascending/descending)\n",
        "    def sort(self,field,descending=True):\n",
        "        self.catalog.sort(key=lambda x: str(getattr(x,field)),reverse=descending)\n",
        "\n",
        "    # Search the catalog for all records containing a match or partial match of the value for a given key\n",
        "    def search(self,key,value):\n",
        "        import re\n",
        "        results = []\n",
        "        if value == '*':\n",
        "          return self.catalog\n",
        "\n",
        "        for record in self.catalog:\n",
        "            if key in vars(record):\n",
        "                occ = re.search(value.lower(),str(getattr(record,key)).lower())\n",
        "                if not occ == None:\n",
        "                    results.append(record)\n",
        "            else:\n",
        "              for k in vars(record):\n",
        "                occ = re.search(value.lower(),str(getattr(record,k)).lower())\n",
        "                if not occ == None:\n",
        "                    results.append(record)\n",
        "\n",
        "        return results\n",
        "\n",
        "    # Return a list of courses matching/partial matching a given course id (course code + course number)\n",
        "    def search_by_course_id(self,courses):\n",
        "      import re\n",
        "      results = []\n",
        "      course_list = courses.split('|')\n",
        "\n",
        "      for record in self.catalog:\n",
        "        for course in course_list:\n",
        "          if record.course_id == course or record.get(\"Course code\") == course:\n",
        "            results.append(record)\n",
        "\n",
        "      return results\n"
      ],
      "metadata": {
        "id": "P03lcB94wFf8"
      },
      "execution_count": 6,
      "outputs": []
    },
    {
      "cell_type": "markdown",
      "source": [
        "### Load Data File\n",
        "The function will take both Excel files (.xls, .xlsx) and CSV files (.csv,.txt)."
      ],
      "metadata": {
        "id": "YBvwOs-9fsHu"
      }
    },
    {
      "cell_type": "code",
      "source": [
        "df = load_datafile(DATA_FILE)\n",
        "df\n"
      ],
      "metadata": {
        "colab": {
          "base_uri": "https://localhost:8080/",
          "height": 982
        },
        "id": "P9rxWBuSNmce",
        "outputId": "7b3ba49e-4402-4167-ccc9-96fec4df28a3"
      },
      "execution_count": 8,
      "outputs": [
        {
          "output_type": "stream",
          "name": "stdout",
          "text": [
            "CSV doc\n"
          ]
        },
        {
          "output_type": "execute_result",
          "data": {
            "text/plain": [
              "    Unnamed: 0                                         Title  \\\n",
              "0            0                The Surprise Day: An Anthology   \n",
              "1            1                The Inflation Decade: A Survey   \n",
              "2            2                   A Tale Of Mistake & Mistake   \n",
              "3            3               The Document Month: An Overview   \n",
              "4            4                The Package Year: A Compendium   \n",
              "..         ...                                           ...   \n",
              "95          95                The Mistake Year: An Anthology   \n",
              "96          96                The Plane Decade: An Anthology   \n",
              "97          97                     Three Arrivals And A Book   \n",
              "98          98  House, Forest Fire, & Car: A Cautionary Tale   \n",
              "99          99          The Forest Fire Decade: A Compendium   \n",
              "\n",
              "                Author            ISXN              Publisher  \\\n",
              "0   Rahimah Tsirigolis  979-8536008580       Taylor & Francis   \n",
              "1        Waseem Priddy  979-9441864393            Brick Books   \n",
              "2             Tung Lee  978-8612956485      UC Berkeley Press   \n",
              "3              Eva Cod  978-0422970890      UC Berkeley Press   \n",
              "4      Eirys Beauchamp  978-8429490796           Heyday Books   \n",
              "..                 ...             ...                    ...   \n",
              "95          Inam Biven  979-7563834603       Taylor & Francis   \n",
              "96      Hwei-ru Pearce  979-1332113171  Yale University Press   \n",
              "97       Akira Haddock  978-9487273208              MIT Press   \n",
              "98     Kalinikos Welby  978-1316304126  Yale University Press   \n",
              "99       Mina Gressler  979-3517008831            Brick Books   \n",
              "\n",
              "                                      Uri        Call number item type  \\\n",
              "0                     www.tiffanykono.org  KY2156.S1416 1975      book   \n",
              "1                           www.pride.com    L2954.C316 1976   chapter   \n",
              "2     www.soon-jaayugai.net/Richmond.html   FA1683.O648 1918   chapter   \n",
              "3                            www.poem.org  SJ1619.N1362 1924   article   \n",
              "4   www.tree.com/heatwave/parkinglot.html   K1602.Z1641 1922   article   \n",
              "..                                    ...                ...       ...   \n",
              "95                   www.jingmarkeley.net   G8056.O1283 1977   chapter   \n",
              "96                          www.story.edu    LD67.N2325 1952      book   \n",
              "97                     www.forestfire.gov    R7978.A558 1966   chapter   \n",
              "98                 www.badfirefighter.com    H630.Q2855 1958   article   \n",
              "99                     www.dianmerkel.org  SG1263.R2875 2002   article   \n",
              "\n",
              "   Course code  Coursenumber            Session  Section  \\\n",
              "0         ARST           290  2016[S1,W1,S2,W2]      680   \n",
              "1         ARST           829  2018[S1,W1,S2,W2]      974   \n",
              "2         HIST           650  2019[S1,W1,S2,W2]      613   \n",
              "3         HIST           680  2018[S1,W1,S2,W2]      144   \n",
              "4         SPAN           234  2021[S1,W1,S2,W2]      164   \n",
              "..         ...           ...                ...      ...   \n",
              "95        MATH           877  2023[S1,W1,S2,W2]       63   \n",
              "96        CRWT           363  2023[S1,W1,S2,W2]      808   \n",
              "97        ENGL           358  2019[S1,W1,S2,W2]      569   \n",
              "98        ENGL           108  2017[S1,W1,S2,W2]      476   \n",
              "99        CRWT           114  2016[S1,W1,S2,W2]      130   \n",
              "\n",
              "                  Course title Physical format                         Status  \n",
              "0                  History 256           ebook    Available in Library Stacks  \n",
              "1                Practical Art           ebook  Available in Library Reserves  \n",
              "2         The Profitable Daies           ebook         eBook Available Online  \n",
              "3                  Biology 496            book         eBook Available Online  \n",
              "4       English Literature 372           ebook         eBook Available Online  \n",
              "..                         ...             ...                            ...  \n",
              "95               Advanced Cars           ebook    Available in Library Stacks  \n",
              "96           Intro To Pictures            book    Available in Library Stacks  \n",
              "97  The Sailor In The Bookshop            book  Available in Library Reserves  \n",
              "98  21St-Century Culinary Arts           ebook         eBook Available Online  \n",
              "99      English Literature 256           ebook  Available in Library Reserves  \n",
              "\n",
              "[100 rows x 15 columns]"
            ],
            "text/html": [
              "\n",
              "  <div id=\"df-385b27dd-0c0a-4d7b-8e60-8d2a58a09158\" class=\"colab-df-container\">\n",
              "    <div>\n",
              "<style scoped>\n",
              "    .dataframe tbody tr th:only-of-type {\n",
              "        vertical-align: middle;\n",
              "    }\n",
              "\n",
              "    .dataframe tbody tr th {\n",
              "        vertical-align: top;\n",
              "    }\n",
              "\n",
              "    .dataframe thead th {\n",
              "        text-align: right;\n",
              "    }\n",
              "</style>\n",
              "<table border=\"1\" class=\"dataframe\">\n",
              "  <thead>\n",
              "    <tr style=\"text-align: right;\">\n",
              "      <th></th>\n",
              "      <th>Unnamed: 0</th>\n",
              "      <th>Title</th>\n",
              "      <th>Author</th>\n",
              "      <th>ISXN</th>\n",
              "      <th>Publisher</th>\n",
              "      <th>Uri</th>\n",
              "      <th>Call number</th>\n",
              "      <th>item type</th>\n",
              "      <th>Course code</th>\n",
              "      <th>Coursenumber</th>\n",
              "      <th>Session</th>\n",
              "      <th>Section</th>\n",
              "      <th>Course title</th>\n",
              "      <th>Physical format</th>\n",
              "      <th>Status</th>\n",
              "    </tr>\n",
              "  </thead>\n",
              "  <tbody>\n",
              "    <tr>\n",
              "      <th>0</th>\n",
              "      <td>0</td>\n",
              "      <td>The Surprise Day: An Anthology</td>\n",
              "      <td>Rahimah Tsirigolis</td>\n",
              "      <td>979-8536008580</td>\n",
              "      <td>Taylor &amp; Francis</td>\n",
              "      <td>www.tiffanykono.org</td>\n",
              "      <td>KY2156.S1416 1975</td>\n",
              "      <td>book</td>\n",
              "      <td>ARST</td>\n",
              "      <td>290</td>\n",
              "      <td>2016[S1,W1,S2,W2]</td>\n",
              "      <td>680</td>\n",
              "      <td>History 256</td>\n",
              "      <td>ebook</td>\n",
              "      <td>Available in Library Stacks</td>\n",
              "    </tr>\n",
              "    <tr>\n",
              "      <th>1</th>\n",
              "      <td>1</td>\n",
              "      <td>The Inflation Decade: A Survey</td>\n",
              "      <td>Waseem Priddy</td>\n",
              "      <td>979-9441864393</td>\n",
              "      <td>Brick Books</td>\n",
              "      <td>www.pride.com</td>\n",
              "      <td>L2954.C316 1976</td>\n",
              "      <td>chapter</td>\n",
              "      <td>ARST</td>\n",
              "      <td>829</td>\n",
              "      <td>2018[S1,W1,S2,W2]</td>\n",
              "      <td>974</td>\n",
              "      <td>Practical Art</td>\n",
              "      <td>ebook</td>\n",
              "      <td>Available in Library Reserves</td>\n",
              "    </tr>\n",
              "    <tr>\n",
              "      <th>2</th>\n",
              "      <td>2</td>\n",
              "      <td>A Tale Of Mistake &amp; Mistake</td>\n",
              "      <td>Tung Lee</td>\n",
              "      <td>978-8612956485</td>\n",
              "      <td>UC Berkeley Press</td>\n",
              "      <td>www.soon-jaayugai.net/Richmond.html</td>\n",
              "      <td>FA1683.O648 1918</td>\n",
              "      <td>chapter</td>\n",
              "      <td>HIST</td>\n",
              "      <td>650</td>\n",
              "      <td>2019[S1,W1,S2,W2]</td>\n",
              "      <td>613</td>\n",
              "      <td>The Profitable Daies</td>\n",
              "      <td>ebook</td>\n",
              "      <td>eBook Available Online</td>\n",
              "    </tr>\n",
              "    <tr>\n",
              "      <th>3</th>\n",
              "      <td>3</td>\n",
              "      <td>The Document Month: An Overview</td>\n",
              "      <td>Eva Cod</td>\n",
              "      <td>978-0422970890</td>\n",
              "      <td>UC Berkeley Press</td>\n",
              "      <td>www.poem.org</td>\n",
              "      <td>SJ1619.N1362 1924</td>\n",
              "      <td>article</td>\n",
              "      <td>HIST</td>\n",
              "      <td>680</td>\n",
              "      <td>2018[S1,W1,S2,W2]</td>\n",
              "      <td>144</td>\n",
              "      <td>Biology 496</td>\n",
              "      <td>book</td>\n",
              "      <td>eBook Available Online</td>\n",
              "    </tr>\n",
              "    <tr>\n",
              "      <th>4</th>\n",
              "      <td>4</td>\n",
              "      <td>The Package Year: A Compendium</td>\n",
              "      <td>Eirys Beauchamp</td>\n",
              "      <td>978-8429490796</td>\n",
              "      <td>Heyday Books</td>\n",
              "      <td>www.tree.com/heatwave/parkinglot.html</td>\n",
              "      <td>K1602.Z1641 1922</td>\n",
              "      <td>article</td>\n",
              "      <td>SPAN</td>\n",
              "      <td>234</td>\n",
              "      <td>2021[S1,W1,S2,W2]</td>\n",
              "      <td>164</td>\n",
              "      <td>English Literature 372</td>\n",
              "      <td>ebook</td>\n",
              "      <td>eBook Available Online</td>\n",
              "    </tr>\n",
              "    <tr>\n",
              "      <th>...</th>\n",
              "      <td>...</td>\n",
              "      <td>...</td>\n",
              "      <td>...</td>\n",
              "      <td>...</td>\n",
              "      <td>...</td>\n",
              "      <td>...</td>\n",
              "      <td>...</td>\n",
              "      <td>...</td>\n",
              "      <td>...</td>\n",
              "      <td>...</td>\n",
              "      <td>...</td>\n",
              "      <td>...</td>\n",
              "      <td>...</td>\n",
              "      <td>...</td>\n",
              "      <td>...</td>\n",
              "    </tr>\n",
              "    <tr>\n",
              "      <th>95</th>\n",
              "      <td>95</td>\n",
              "      <td>The Mistake Year: An Anthology</td>\n",
              "      <td>Inam Biven</td>\n",
              "      <td>979-7563834603</td>\n",
              "      <td>Taylor &amp; Francis</td>\n",
              "      <td>www.jingmarkeley.net</td>\n",
              "      <td>G8056.O1283 1977</td>\n",
              "      <td>chapter</td>\n",
              "      <td>MATH</td>\n",
              "      <td>877</td>\n",
              "      <td>2023[S1,W1,S2,W2]</td>\n",
              "      <td>63</td>\n",
              "      <td>Advanced Cars</td>\n",
              "      <td>ebook</td>\n",
              "      <td>Available in Library Stacks</td>\n",
              "    </tr>\n",
              "    <tr>\n",
              "      <th>96</th>\n",
              "      <td>96</td>\n",
              "      <td>The Plane Decade: An Anthology</td>\n",
              "      <td>Hwei-ru Pearce</td>\n",
              "      <td>979-1332113171</td>\n",
              "      <td>Yale University Press</td>\n",
              "      <td>www.story.edu</td>\n",
              "      <td>LD67.N2325 1952</td>\n",
              "      <td>book</td>\n",
              "      <td>CRWT</td>\n",
              "      <td>363</td>\n",
              "      <td>2023[S1,W1,S2,W2]</td>\n",
              "      <td>808</td>\n",
              "      <td>Intro To Pictures</td>\n",
              "      <td>book</td>\n",
              "      <td>Available in Library Stacks</td>\n",
              "    </tr>\n",
              "    <tr>\n",
              "      <th>97</th>\n",
              "      <td>97</td>\n",
              "      <td>Three Arrivals And A Book</td>\n",
              "      <td>Akira Haddock</td>\n",
              "      <td>978-9487273208</td>\n",
              "      <td>MIT Press</td>\n",
              "      <td>www.forestfire.gov</td>\n",
              "      <td>R7978.A558 1966</td>\n",
              "      <td>chapter</td>\n",
              "      <td>ENGL</td>\n",
              "      <td>358</td>\n",
              "      <td>2019[S1,W1,S2,W2]</td>\n",
              "      <td>569</td>\n",
              "      <td>The Sailor In The Bookshop</td>\n",
              "      <td>book</td>\n",
              "      <td>Available in Library Reserves</td>\n",
              "    </tr>\n",
              "    <tr>\n",
              "      <th>98</th>\n",
              "      <td>98</td>\n",
              "      <td>House, Forest Fire, &amp; Car: A Cautionary Tale</td>\n",
              "      <td>Kalinikos Welby</td>\n",
              "      <td>978-1316304126</td>\n",
              "      <td>Yale University Press</td>\n",
              "      <td>www.badfirefighter.com</td>\n",
              "      <td>H630.Q2855 1958</td>\n",
              "      <td>article</td>\n",
              "      <td>ENGL</td>\n",
              "      <td>108</td>\n",
              "      <td>2017[S1,W1,S2,W2]</td>\n",
              "      <td>476</td>\n",
              "      <td>21St-Century Culinary Arts</td>\n",
              "      <td>ebook</td>\n",
              "      <td>eBook Available Online</td>\n",
              "    </tr>\n",
              "    <tr>\n",
              "      <th>99</th>\n",
              "      <td>99</td>\n",
              "      <td>The Forest Fire Decade: A Compendium</td>\n",
              "      <td>Mina Gressler</td>\n",
              "      <td>979-3517008831</td>\n",
              "      <td>Brick Books</td>\n",
              "      <td>www.dianmerkel.org</td>\n",
              "      <td>SG1263.R2875 2002</td>\n",
              "      <td>article</td>\n",
              "      <td>CRWT</td>\n",
              "      <td>114</td>\n",
              "      <td>2016[S1,W1,S2,W2]</td>\n",
              "      <td>130</td>\n",
              "      <td>English Literature 256</td>\n",
              "      <td>ebook</td>\n",
              "      <td>Available in Library Reserves</td>\n",
              "    </tr>\n",
              "  </tbody>\n",
              "</table>\n",
              "<p>100 rows × 15 columns</p>\n",
              "</div>\n",
              "    <div class=\"colab-df-buttons\">\n",
              "\n",
              "  <div class=\"colab-df-container\">\n",
              "    <button class=\"colab-df-convert\" onclick=\"convertToInteractive('df-385b27dd-0c0a-4d7b-8e60-8d2a58a09158')\"\n",
              "            title=\"Convert this dataframe to an interactive table.\"\n",
              "            style=\"display:none;\">\n",
              "\n",
              "  <svg xmlns=\"http://www.w3.org/2000/svg\" height=\"24px\" viewBox=\"0 -960 960 960\">\n",
              "    <path d=\"M120-120v-720h720v720H120Zm60-500h600v-160H180v160Zm220 220h160v-160H400v160Zm0 220h160v-160H400v160ZM180-400h160v-160H180v160Zm440 0h160v-160H620v160ZM180-180h160v-160H180v160Zm440 0h160v-160H620v160Z\"/>\n",
              "  </svg>\n",
              "    </button>\n",
              "\n",
              "  <style>\n",
              "    .colab-df-container {\n",
              "      display:flex;\n",
              "      gap: 12px;\n",
              "    }\n",
              "\n",
              "    .colab-df-convert {\n",
              "      background-color: #E8F0FE;\n",
              "      border: none;\n",
              "      border-radius: 50%;\n",
              "      cursor: pointer;\n",
              "      display: none;\n",
              "      fill: #1967D2;\n",
              "      height: 32px;\n",
              "      padding: 0 0 0 0;\n",
              "      width: 32px;\n",
              "    }\n",
              "\n",
              "    .colab-df-convert:hover {\n",
              "      background-color: #E2EBFA;\n",
              "      box-shadow: 0px 1px 2px rgba(60, 64, 67, 0.3), 0px 1px 3px 1px rgba(60, 64, 67, 0.15);\n",
              "      fill: #174EA6;\n",
              "    }\n",
              "\n",
              "    .colab-df-buttons div {\n",
              "      margin-bottom: 4px;\n",
              "    }\n",
              "\n",
              "    [theme=dark] .colab-df-convert {\n",
              "      background-color: #3B4455;\n",
              "      fill: #D2E3FC;\n",
              "    }\n",
              "\n",
              "    [theme=dark] .colab-df-convert:hover {\n",
              "      background-color: #434B5C;\n",
              "      box-shadow: 0px 1px 3px 1px rgba(0, 0, 0, 0.15);\n",
              "      filter: drop-shadow(0px 1px 2px rgba(0, 0, 0, 0.3));\n",
              "      fill: #FFFFFF;\n",
              "    }\n",
              "  </style>\n",
              "\n",
              "    <script>\n",
              "      const buttonEl =\n",
              "        document.querySelector('#df-385b27dd-0c0a-4d7b-8e60-8d2a58a09158 button.colab-df-convert');\n",
              "      buttonEl.style.display =\n",
              "        google.colab.kernel.accessAllowed ? 'block' : 'none';\n",
              "\n",
              "      async function convertToInteractive(key) {\n",
              "        const element = document.querySelector('#df-385b27dd-0c0a-4d7b-8e60-8d2a58a09158');\n",
              "        const dataTable =\n",
              "          await google.colab.kernel.invokeFunction('convertToInteractive',\n",
              "                                                    [key], {});\n",
              "        if (!dataTable) return;\n",
              "\n",
              "        const docLinkHtml = 'Like what you see? Visit the ' +\n",
              "          '<a target=\"_blank\" href=https://colab.research.google.com/notebooks/data_table.ipynb>data table notebook</a>'\n",
              "          + ' to learn more about interactive tables.';\n",
              "        element.innerHTML = '';\n",
              "        dataTable['output_type'] = 'display_data';\n",
              "        await google.colab.output.renderOutput(dataTable, element);\n",
              "        const docLink = document.createElement('div');\n",
              "        docLink.innerHTML = docLinkHtml;\n",
              "        element.appendChild(docLink);\n",
              "      }\n",
              "    </script>\n",
              "  </div>\n",
              "\n",
              "\n",
              "<div id=\"df-9b7615b4-c018-4fae-b7e5-6cffe88e5638\">\n",
              "  <button class=\"colab-df-quickchart\" onclick=\"quickchart('df-9b7615b4-c018-4fae-b7e5-6cffe88e5638')\"\n",
              "            title=\"Suggest charts\"\n",
              "            style=\"display:none;\">\n",
              "\n",
              "<svg xmlns=\"http://www.w3.org/2000/svg\" height=\"24px\"viewBox=\"0 0 24 24\"\n",
              "     width=\"24px\">\n",
              "    <g>\n",
              "        <path d=\"M19 3H5c-1.1 0-2 .9-2 2v14c0 1.1.9 2 2 2h14c1.1 0 2-.9 2-2V5c0-1.1-.9-2-2-2zM9 17H7v-7h2v7zm4 0h-2V7h2v10zm4 0h-2v-4h2v4z\"/>\n",
              "    </g>\n",
              "</svg>\n",
              "  </button>\n",
              "\n",
              "<style>\n",
              "  .colab-df-quickchart {\n",
              "      --bg-color: #E8F0FE;\n",
              "      --fill-color: #1967D2;\n",
              "      --hover-bg-color: #E2EBFA;\n",
              "      --hover-fill-color: #174EA6;\n",
              "      --disabled-fill-color: #AAA;\n",
              "      --disabled-bg-color: #DDD;\n",
              "  }\n",
              "\n",
              "  [theme=dark] .colab-df-quickchart {\n",
              "      --bg-color: #3B4455;\n",
              "      --fill-color: #D2E3FC;\n",
              "      --hover-bg-color: #434B5C;\n",
              "      --hover-fill-color: #FFFFFF;\n",
              "      --disabled-bg-color: #3B4455;\n",
              "      --disabled-fill-color: #666;\n",
              "  }\n",
              "\n",
              "  .colab-df-quickchart {\n",
              "    background-color: var(--bg-color);\n",
              "    border: none;\n",
              "    border-radius: 50%;\n",
              "    cursor: pointer;\n",
              "    display: none;\n",
              "    fill: var(--fill-color);\n",
              "    height: 32px;\n",
              "    padding: 0;\n",
              "    width: 32px;\n",
              "  }\n",
              "\n",
              "  .colab-df-quickchart:hover {\n",
              "    background-color: var(--hover-bg-color);\n",
              "    box-shadow: 0 1px 2px rgba(60, 64, 67, 0.3), 0 1px 3px 1px rgba(60, 64, 67, 0.15);\n",
              "    fill: var(--button-hover-fill-color);\n",
              "  }\n",
              "\n",
              "  .colab-df-quickchart-complete:disabled,\n",
              "  .colab-df-quickchart-complete:disabled:hover {\n",
              "    background-color: var(--disabled-bg-color);\n",
              "    fill: var(--disabled-fill-color);\n",
              "    box-shadow: none;\n",
              "  }\n",
              "\n",
              "  .colab-df-spinner {\n",
              "    border: 2px solid var(--fill-color);\n",
              "    border-color: transparent;\n",
              "    border-bottom-color: var(--fill-color);\n",
              "    animation:\n",
              "      spin 1s steps(1) infinite;\n",
              "  }\n",
              "\n",
              "  @keyframes spin {\n",
              "    0% {\n",
              "      border-color: transparent;\n",
              "      border-bottom-color: var(--fill-color);\n",
              "      border-left-color: var(--fill-color);\n",
              "    }\n",
              "    20% {\n",
              "      border-color: transparent;\n",
              "      border-left-color: var(--fill-color);\n",
              "      border-top-color: var(--fill-color);\n",
              "    }\n",
              "    30% {\n",
              "      border-color: transparent;\n",
              "      border-left-color: var(--fill-color);\n",
              "      border-top-color: var(--fill-color);\n",
              "      border-right-color: var(--fill-color);\n",
              "    }\n",
              "    40% {\n",
              "      border-color: transparent;\n",
              "      border-right-color: var(--fill-color);\n",
              "      border-top-color: var(--fill-color);\n",
              "    }\n",
              "    60% {\n",
              "      border-color: transparent;\n",
              "      border-right-color: var(--fill-color);\n",
              "    }\n",
              "    80% {\n",
              "      border-color: transparent;\n",
              "      border-right-color: var(--fill-color);\n",
              "      border-bottom-color: var(--fill-color);\n",
              "    }\n",
              "    90% {\n",
              "      border-color: transparent;\n",
              "      border-bottom-color: var(--fill-color);\n",
              "    }\n",
              "  }\n",
              "</style>\n",
              "\n",
              "  <script>\n",
              "    async function quickchart(key) {\n",
              "      const quickchartButtonEl =\n",
              "        document.querySelector('#' + key + ' button');\n",
              "      quickchartButtonEl.disabled = true;  // To prevent multiple clicks.\n",
              "      quickchartButtonEl.classList.add('colab-df-spinner');\n",
              "      try {\n",
              "        const charts = await google.colab.kernel.invokeFunction(\n",
              "            'suggestCharts', [key], {});\n",
              "      } catch (error) {\n",
              "        console.error('Error during call to suggestCharts:', error);\n",
              "      }\n",
              "      quickchartButtonEl.classList.remove('colab-df-spinner');\n",
              "      quickchartButtonEl.classList.add('colab-df-quickchart-complete');\n",
              "    }\n",
              "    (() => {\n",
              "      let quickchartButtonEl =\n",
              "        document.querySelector('#df-9b7615b4-c018-4fae-b7e5-6cffe88e5638 button');\n",
              "      quickchartButtonEl.style.display =\n",
              "        google.colab.kernel.accessAllowed ? 'block' : 'none';\n",
              "    })();\n",
              "  </script>\n",
              "</div>\n",
              "\n",
              "  <div id=\"id_54ce0dfc-f774-426d-bebd-5e13b2d480b3\">\n",
              "    <style>\n",
              "      .colab-df-generate {\n",
              "        background-color: #E8F0FE;\n",
              "        border: none;\n",
              "        border-radius: 50%;\n",
              "        cursor: pointer;\n",
              "        display: none;\n",
              "        fill: #1967D2;\n",
              "        height: 32px;\n",
              "        padding: 0 0 0 0;\n",
              "        width: 32px;\n",
              "      }\n",
              "\n",
              "      .colab-df-generate:hover {\n",
              "        background-color: #E2EBFA;\n",
              "        box-shadow: 0px 1px 2px rgba(60, 64, 67, 0.3), 0px 1px 3px 1px rgba(60, 64, 67, 0.15);\n",
              "        fill: #174EA6;\n",
              "      }\n",
              "\n",
              "      [theme=dark] .colab-df-generate {\n",
              "        background-color: #3B4455;\n",
              "        fill: #D2E3FC;\n",
              "      }\n",
              "\n",
              "      [theme=dark] .colab-df-generate:hover {\n",
              "        background-color: #434B5C;\n",
              "        box-shadow: 0px 1px 3px 1px rgba(0, 0, 0, 0.15);\n",
              "        filter: drop-shadow(0px 1px 2px rgba(0, 0, 0, 0.3));\n",
              "        fill: #FFFFFF;\n",
              "      }\n",
              "    </style>\n",
              "    <button class=\"colab-df-generate\" onclick=\"generateWithVariable('df')\"\n",
              "            title=\"Generate code using this dataframe.\"\n",
              "            style=\"display:none;\">\n",
              "\n",
              "  <svg xmlns=\"http://www.w3.org/2000/svg\" height=\"24px\"viewBox=\"0 0 24 24\"\n",
              "       width=\"24px\">\n",
              "    <path d=\"M7,19H8.4L18.45,9,17,7.55,7,17.6ZM5,21V16.75L18.45,3.32a2,2,0,0,1,2.83,0l1.4,1.43a1.91,1.91,0,0,1,.58,1.4,1.91,1.91,0,0,1-.58,1.4L9.25,21ZM18.45,9,17,7.55Zm-12,3A5.31,5.31,0,0,0,4.9,8.1,5.31,5.31,0,0,0,1,6.5,5.31,5.31,0,0,0,4.9,4.9,5.31,5.31,0,0,0,6.5,1,5.31,5.31,0,0,0,8.1,4.9,5.31,5.31,0,0,0,12,6.5,5.46,5.46,0,0,0,6.5,12Z\"/>\n",
              "  </svg>\n",
              "    </button>\n",
              "    <script>\n",
              "      (() => {\n",
              "      const buttonEl =\n",
              "        document.querySelector('#id_54ce0dfc-f774-426d-bebd-5e13b2d480b3 button.colab-df-generate');\n",
              "      buttonEl.style.display =\n",
              "        google.colab.kernel.accessAllowed ? 'block' : 'none';\n",
              "\n",
              "      buttonEl.onclick = () => {\n",
              "        google.colab.notebook.generateWithVariable('df');\n",
              "      }\n",
              "      })();\n",
              "    </script>\n",
              "  </div>\n",
              "\n",
              "    </div>\n",
              "  </div>\n"
            ],
            "application/vnd.google.colaboratory.intrinsic+json": {
              "type": "dataframe",
              "variable_name": "df",
              "summary": "{\n  \"name\": \"df\",\n  \"rows\": 100,\n  \"fields\": [\n    {\n      \"column\": \"Unnamed: 0\",\n      \"properties\": {\n        \"dtype\": \"number\",\n        \"std\": 29,\n        \"min\": 0,\n        \"max\": 99,\n        \"num_unique_values\": 100,\n        \"samples\": [\n          83,\n          53,\n          70\n        ],\n        \"semantic_type\": \"\",\n        \"description\": \"\"\n      }\n    },\n    {\n      \"column\": \"Title\",\n      \"properties\": {\n        \"dtype\": \"string\",\n        \"num_unique_values\": 100,\n        \"samples\": [\n          \"The Sad Form\",\n          \"Accident, Car, & House: An Analysis\",\n          \"The Package Month: An Anthology\"\n        ],\n        \"semantic_type\": \"\",\n        \"description\": \"\"\n      }\n    },\n    {\n      \"column\": \"Author\",\n      \"properties\": {\n        \"dtype\": \"string\",\n        \"num_unique_values\": 100,\n        \"samples\": [\n          \"Si-eun Pappas\",\n          \"Ji-yeon Mok\",\n          \"Mallory Levett\"\n        ],\n        \"semantic_type\": \"\",\n        \"description\": \"\"\n      }\n    },\n    {\n      \"column\": \"ISXN\",\n      \"properties\": {\n        \"dtype\": \"string\",\n        \"num_unique_values\": 100,\n        \"samples\": [\n          \"978-1293270019\",\n          \"978-8129432713\",\n          \"978-4527532786\"\n        ],\n        \"semantic_type\": \"\",\n        \"description\": \"\"\n      }\n    },\n    {\n      \"column\": \"Publisher\",\n      \"properties\": {\n        \"dtype\": \"category\",\n        \"num_unique_values\": 9,\n        \"samples\": [\n          \"MIT Press\",\n          \"Brick Books\",\n          \"Yale University Press\"\n        ],\n        \"semantic_type\": \"\",\n        \"description\": \"\"\n      }\n    },\n    {\n      \"column\": \"Uri\",\n      \"properties\": {\n        \"dtype\": \"string\",\n        \"num_unique_values\": 97,\n        \"samples\": [\n          \"www.document.com\",\n          \"www.dirtysurprise.net\",\n          \"www.story.edu\"\n        ],\n        \"semantic_type\": \"\",\n        \"description\": \"\"\n      }\n    },\n    {\n      \"column\": \"Call number\",\n      \"properties\": {\n        \"dtype\": \"string\",\n        \"num_unique_values\": 100,\n        \"samples\": [\n          \"B8238.B1694 2005\",\n          \"ZD921.K1126 1957\",\n          \"Q4038.V282 1927\"\n        ],\n        \"semantic_type\": \"\",\n        \"description\": \"\"\n      }\n    },\n    {\n      \"column\": \"item type\",\n      \"properties\": {\n        \"dtype\": \"category\",\n        \"num_unique_values\": 3,\n        \"samples\": [\n          \"book\",\n          \"chapter\",\n          \"article\"\n        ],\n        \"semantic_type\": \"\",\n        \"description\": \"\"\n      }\n    },\n    {\n      \"column\": \"Course code\",\n      \"properties\": {\n        \"dtype\": \"category\",\n        \"num_unique_values\": 8,\n        \"samples\": [\n          \"HIST\",\n          \"MUSI\",\n          \"ARST\"\n        ],\n        \"semantic_type\": \"\",\n        \"description\": \"\"\n      }\n    },\n    {\n      \"column\": \"Coursenumber\",\n      \"properties\": {\n        \"dtype\": \"number\",\n        \"std\": 310,\n        \"min\": 13,\n        \"max\": 997,\n        \"num_unique_values\": 97,\n        \"samples\": [\n          117,\n          128,\n          363\n        ],\n        \"semantic_type\": \"\",\n        \"description\": \"\"\n      }\n    },\n    {\n      \"column\": \"Session\",\n      \"properties\": {\n        \"dtype\": \"category\",\n        \"num_unique_values\": 10,\n        \"samples\": [\n          \"2022[S1,W1,S2,W2]\",\n          \"2018[S1,W1,S2,W2]\",\n          \"2017[S1,W1,S2,W2]\"\n        ],\n        \"semantic_type\": \"\",\n        \"description\": \"\"\n      }\n    },\n    {\n      \"column\": \"Section\",\n      \"properties\": {\n        \"dtype\": \"number\",\n        \"std\": 306,\n        \"min\": 11,\n        \"max\": 974,\n        \"num_unique_values\": 96,\n        \"samples\": [\n          566,\n          753,\n          709\n        ],\n        \"semantic_type\": \"\",\n        \"description\": \"\"\n      }\n    },\n    {\n      \"column\": \"Course title\",\n      \"properties\": {\n        \"dtype\": \"string\",\n        \"num_unique_values\": 98,\n        \"samples\": [\n          \"Frech 357\",\n          \"English Literature 416\",\n          \"Intro To Pictures\"\n        ],\n        \"semantic_type\": \"\",\n        \"description\": \"\"\n      }\n    },\n    {\n      \"column\": \"Physical format\",\n      \"properties\": {\n        \"dtype\": \"category\",\n        \"num_unique_values\": 2,\n        \"samples\": [\n          \"book\",\n          \"ebook\"\n        ],\n        \"semantic_type\": \"\",\n        \"description\": \"\"\n      }\n    },\n    {\n      \"column\": \"Status\",\n      \"properties\": {\n        \"dtype\": \"category\",\n        \"num_unique_values\": 3,\n        \"samples\": [\n          \"Available in Library Stacks\",\n          \"Available in Library Reserves\"\n        ],\n        \"semantic_type\": \"\",\n        \"description\": \"\"\n      }\n    }\n  ]\n}"
            }
          },
          "metadata": {},
          "execution_count": 8
        }
      ]
    },
    {
      "cell_type": "markdown",
      "source": [
        "## Gathering Information\n",
        "\n",
        "### Get Information about Data Set"
      ],
      "metadata": {
        "id": "cHx2TGwngRl7"
      }
    },
    {
      "cell_type": "code",
      "source": [
        "print(df.info())"
      ],
      "metadata": {
        "colab": {
          "base_uri": "https://localhost:8080/"
        },
        "id": "SoLCsQ91fL36",
        "outputId": "877f3091-112d-46fa-d820-ef6e0a28eee5"
      },
      "execution_count": 9,
      "outputs": [
        {
          "output_type": "stream",
          "name": "stdout",
          "text": [
            "<class 'pandas.core.frame.DataFrame'>\n",
            "RangeIndex: 100 entries, 0 to 99\n",
            "Data columns (total 15 columns):\n",
            " #   Column           Non-Null Count  Dtype \n",
            "---  ------           --------------  ----- \n",
            " 0   Unnamed: 0       100 non-null    int64 \n",
            " 1   Title            100 non-null    object\n",
            " 2   Author           100 non-null    object\n",
            " 3   ISXN             100 non-null    object\n",
            " 4   Publisher        100 non-null    object\n",
            " 5   Uri              100 non-null    object\n",
            " 6   Call number      100 non-null    object\n",
            " 7   item type        100 non-null    object\n",
            " 8   Course code      100 non-null    object\n",
            " 9   Coursenumber     100 non-null    int64 \n",
            " 10  Session          100 non-null    object\n",
            " 11  Section          100 non-null    int64 \n",
            " 12  Course title     100 non-null    object\n",
            " 13  Physical format  100 non-null    object\n",
            " 14  Status           100 non-null    object\n",
            "dtypes: int64(3), object(12)\n",
            "memory usage: 11.8+ KB\n",
            "None\n"
          ]
        }
      ]
    },
    {
      "cell_type": "markdown",
      "source": [
        "### Get List of Column Names\n",
        "You can use these names to finetune your searches."
      ],
      "metadata": {
        "id": "5cAGtivtgxd0"
      }
    },
    {
      "cell_type": "code",
      "source": [
        "print(df.columns)"
      ],
      "metadata": {
        "colab": {
          "base_uri": "https://localhost:8080/"
        },
        "id": "4hlRC3kqfoNS",
        "outputId": "6b17f52b-ac2d-4a20-bc1c-c1fc23e95756"
      },
      "execution_count": 10,
      "outputs": [
        {
          "output_type": "stream",
          "name": "stdout",
          "text": [
            "Index(['Unnamed: 0', 'Title', 'Author', 'ISXN', 'Publisher', 'Uri',\n",
            "       'Call number', 'item type', 'Course code', 'Coursenumber', 'Session',\n",
            "       'Section', 'Course title', 'Physical format', 'Status'],\n",
            "      dtype='object')\n"
          ]
        }
      ]
    },
    {
      "cell_type": "markdown",
      "source": [
        "### Define Function: Search by Keyword\n",
        "This function allows you to search for a key word, phrase, or a list of phrases.\n",
        "\n",
        "1. Search for a single term\n",
        "  - search_by_keyword('dog')\n",
        "2. Search for multiple terms\n",
        "  - search_by_keyword('song|novel|war')\n",
        "  "
      ],
      "metadata": {
        "id": "GZfDXtGGhD4b"
      }
    },
    {
      "cell_type": "code",
      "source": [
        "catalog = Catalog(df)\n",
        "\n",
        "def search_by_keyword(searchstr):\n",
        "  import re\n",
        "  results = []\n",
        "  for ind in range(0,len(df)):\n",
        "    row = list(df.loc[ind])\n",
        "    bFound = False\n",
        "    for i in range(0,len(row)):\n",
        "      test = re.search(searchstr,str(row[i]).lower())\n",
        "      if not test == None:\n",
        "        bFound = True\n",
        "    if bFound:\n",
        "      entry = Record(df.loc[ind].index,row)\n",
        "      results.append(entry)\n",
        "  for ind in range(0,len(results)):\n",
        "    results[ind].print('brief')\n",
        "\n",
        "\n",
        "\n",
        "\n"
      ],
      "metadata": {
        "id": "40sMkQx4gBBf"
      },
      "execution_count": 11,
      "outputs": []
    },
    {
      "cell_type": "markdown",
      "source": [
        "# REPORTS"
      ],
      "metadata": {
        "id": "7lS3lekYhr78"
      }
    },
    {
      "cell_type": "markdown",
      "source": [
        "### Search by Keyword\n",
        "Enter your search terms in the **keywords** field"
      ],
      "metadata": {
        "id": "mOsgmd-nkbXt"
      }
    },
    {
      "cell_type": "code",
      "source": [
        "#keywords = 'frankenstein|robot'\n",
        "keywords = 'monster|science fiction|fantasy|speculative fiction|horror|weird|specific|fairy tale|paranormal|robot|automaton|automata|artificial intelligence|future|climate fiction|dystopian|apocalypse|apocalyptic'\n",
        "search_by_keyword(keywords)\n",
        "\n"
      ],
      "metadata": {
        "id": "ZrTEI6UvtMmk"
      },
      "execution_count": 12,
      "outputs": []
    },
    {
      "cell_type": "markdown",
      "source": [
        "### Define Function: Search by Column/Field\n",
        "This function helps you locate all entries that contain a certain value in a particular field/column.\n",
        "\n",
        "Matches can be partial - eg. 'Automat' with return entries with 'automatic','automaton', 'automata', etc."
      ],
      "metadata": {
        "id": "qfKY1eMVkq-0"
      }
    },
    {
      "cell_type": "code",
      "source": [
        "def search_by_column(colname,searchstr):\n",
        "  import re\n",
        "  results = []\n",
        "  for ind in range(0,len(df)):\n",
        "    bFound = False\n",
        "    entry = df.loc[ind]\n",
        "    test = re.search(searchstr,str(entry[colname]))\n",
        "    if not test == None:\n",
        "      headers = ['Title','Author','Course code', 'Coursenumber','Call number']\n",
        "      if not colname in headers:\n",
        "        headers.append(colname)\n",
        "\n",
        "      citation = Record(entry.index.values,entry.to_list())\n",
        "      citation.print('brief')\n",
        "      results.append(citation)\n",
        "\n",
        "  return results\n"
      ],
      "metadata": {
        "id": "g48a4qpItzHU"
      },
      "execution_count": 14,
      "outputs": []
    },
    {
      "cell_type": "markdown",
      "source": [
        "### Search by Field or Column Value\n",
        "Refer to the Column Names (above) for a list of possible fields to search. This function requires a field/column and a value or list of values to match.\n",
        "\n",
        "In this example, we're searching for call numbers that begin with PR878, PS374, PS648, and PN3433."
      ],
      "metadata": {
        "id": "mT6BICkYlUnI"
      }
    },
    {
      "cell_type": "code",
      "source": [
        "#results = search_by_column('Call number','G8|PS')\n",
        "results = search_by_column('Course code','ENGL')\n",
        "#results = search_by_column('Author','Butler, Samuel')\n"
      ],
      "metadata": {
        "colab": {
          "base_uri": "https://localhost:8080/"
        },
        "id": "tiljlFXHvD4e",
        "outputId": "952c73eb-fba4-4c82-a923-0b6e000e955d"
      },
      "execution_count": 17,
      "outputs": [
        {
          "output_type": "stream",
          "name": "stdout",
          "text": [
            "\"The Truck Century: An Overview,\" Boreugwyn Leavitt, AL2710.L715 1919 ENGL 688\n",
            "\"The Book Decade: A Survey,\" Wafiyyah Osment, CE2107.C1970 1937 ENGL 833\n",
            "\"The Picture Month: An Overview,\" Luc Someya, RO1666.F2924 1941 ENGL 682\n",
            "\"The Cheap Writer,\" Ataa Youn, F5355.Y1578 1972 ENGL 376\n",
            "\"The Forest Fire Century: A Compendium,\" Rayma Hungate, M6840.N2322 1984 ENGL 128\n",
            "\"The Form Decade: A Survey,\" Dwyryd Toh, QY1850.B1522 1909 ENGL 159\n",
            "\"The Water Year: An Overview,\" Doryo Francis, A1897.P2162 1984 ENGL 192\n",
            "\"Mistake, Wildfire, & Accident: A Record,\" Hye-jung Hǎo, LH458.H956 1964 ENGL 174\n",
            "\"The Inflation Year: An Anthology,\" Ki-tae Good, DZ778.S413 1913 ENGL 451\n",
            "\"The Document Day: An Anthology,\" Jeannetounette Al-Farran, OS183.C176 2010 ENGL 107\n",
            "\"The Old Instructor,\" Duyi Koffa, HI1909.F1931 1967 ENGL 351\n",
            "\"The Document Year: An Overview,\" Godfrey Hideki, KU1925.P767 1933 ENGL 352\n",
            "\"Three Arrivals And A Book,\" Akira Haddock, R7978.A558 1966 ENGL 358\n",
            "\"House, Forest Fire, & Car: A Cautionary Tale,\" Kalinikos Welby, H630.Q2855 1958 ENGL 108\n"
          ]
        }
      ]
    },
    {
      "cell_type": "markdown",
      "source": [
        "### Define Function: Search by Course Number\n",
        "This function enables you to search for entries related to a particular course number. Because course code and course number are different fields, you cannot use the previous function to search for a combination of terms.\n",
        "\n",
        "We can pass in a course by its full course code and number (eg. LIBR 598) and the function then splits it into its parts in order to find entries which match course codes and course numbers."
      ],
      "metadata": {
        "id": "StIozqtdl7tc"
      }
    },
    {
      "cell_type": "code",
      "source": [
        "def search_by_course_id(courses):\n",
        "  catalog = Catalog(df)\n",
        "  results = catalog.search_by_course_id(courses)\n",
        "  for result in results:\n",
        "    result.print('brief')"
      ],
      "metadata": {
        "id": "CP2XoTL2YdsY"
      },
      "execution_count": 18,
      "outputs": []
    },
    {
      "cell_type": "markdown",
      "source": [
        "### Search by Course Number\n",
        "Let's say we know we want to locate materials that have used/reserved for previous times ENGL 505A and ENGL 535A were taught. We can pass in the list of course numbers and get a report (eg. ENGL 505A|ENGL 535A)\n",
        "\n",
        "Alternatively, if we want to know all the courses taught in a particular course/department field, we can use just the course code part (eg. ENGL)"
      ],
      "metadata": {
        "id": "PPIExRNVmpcK"
      }
    },
    {
      "cell_type": "code",
      "source": [
        "results = search_by_course_id('ENGL 451')\n",
        "#results = search_by_course_id('ENGL')\n"
      ],
      "metadata": {
        "id": "s0mg5e9PpOqo",
        "colab": {
          "base_uri": "https://localhost:8080/"
        },
        "outputId": "dcbcf518-2b3e-41f3-f5ce-cb8f62a2105f"
      },
      "execution_count": 20,
      "outputs": [
        {
          "output_type": "stream",
          "name": "stdout",
          "text": [
            "\"The Inflation Year: An Anthology,\" Ki-tae Good, DZ778.S413 1913 ENGL 451\n"
          ]
        }
      ]
    },
    {
      "cell_type": "code",
      "source": [
        "def count_by_column(results, colname):\n",
        "  import numpy as np\n",
        "\n",
        "  bFound = False\n",
        "  reports = []\n",
        "\n",
        "  for entry in results:\n",
        "    entry_field = getattr(entry,colname)\n",
        "    if entry_field == np.nan or entry_field=='':\n",
        "      continue\n",
        "    if reports == []:\n",
        "      report = {colname:getattr(entry,colname),'count':1}\n",
        "      reports.append(report)\n",
        "    else:\n",
        "      bFound = False\n",
        "      for rep in reports:\n",
        "\n",
        "        if getattr(entry,colname) == rep[colname]:\n",
        "          rep['count'] = rep['count'] + 1\n",
        "          bFound = True\n",
        "\n",
        "      if bFound == False:\n",
        "        report = {colname:getattr(entry,colname),'count':1}\n",
        "        reports.append(report)\n",
        "\n",
        "  reports.sort(key=lambda x: x['count'],reverse=True)\n",
        "  return reports"
      ],
      "metadata": {
        "id": "EaylYkK5-ULF"
      },
      "execution_count": 21,
      "outputs": []
    },
    {
      "cell_type": "markdown",
      "source": [
        "## Generate Reports\n",
        "\n",
        "### Book/Title Report\n"
      ],
      "metadata": {
        "id": "OHHkLI0CnxrK"
      }
    },
    {
      "cell_type": "code",
      "source": [
        "def get_book_report(book_title='*',bShow=True):\n",
        "  catalog = Catalog(df)\n",
        "  if book_title == '*':\n",
        "    results = catalog.get()\n",
        "  else:\n",
        "    results = catalog.search('Title',book_title)\n",
        "\n",
        "  reports = []\n",
        "\n",
        "  if results == []:\n",
        "    print(f'No texts titled {book_title} found.')\n",
        "    return reports\n",
        "\n",
        "  results.sort(key=lambda x: str(x.Title))\n",
        "\n",
        "  last_title = ''\n",
        "  bFound = False\n",
        "\n",
        "  for entry in results:\n",
        "    if reports == []:\n",
        "      report = {'title':entry.Title,'count':1,'courses':[entry.course_id],'sessions':[entry.Session]}\n",
        "      reports.append(report)\n",
        "    else:\n",
        "      bFound = False\n",
        "      for rep in reports:\n",
        "        if entry.Title == rep['title']:\n",
        "          rep['count'] = rep['count'] + 1\n",
        "          rep['courses'].append(entry.course_id)\n",
        "          rep['sessions'].append(entry.Session)\n",
        "          bFound = True\n",
        "\n",
        "      if bFound == False:\n",
        "        report = {'title':entry.Title,'count':1,'courses':[entry.course_id],'sessions':[entry.Session]}\n",
        "        reports.append(report)\n",
        "\n",
        "  if bShow == True:\n",
        "    for rep in reports:\n",
        "      print(f'\\nTitle: {rep[\"title\"]}\\n Count: {rep[\"count\"]}\\n Courses: {rep[\"courses\"]}\\n Sessions: {rep[\"sessions\"]}')\n",
        "  return reports"
      ],
      "metadata": {
        "id": "r5TdD4w-v6RT"
      },
      "execution_count": 22,
      "outputs": []
    },
    {
      "cell_type": "markdown",
      "source": [
        "#### Generate Book Report"
      ],
      "metadata": {
        "id": "M9XU9ZSXSFHc"
      }
    },
    {
      "cell_type": "code",
      "source": [
        "# To speed the search up, sort the catalog by Title of the book\n",
        "catalog.sort('Title')\n",
        "\n",
        "# Generate a book report with a title or a keyword from the title\n",
        "reports = get_book_report(\"forest\")"
      ],
      "metadata": {
        "colab": {
          "base_uri": "https://localhost:8080/"
        },
        "id": "PAwNLggvE8cx",
        "outputId": "0c07d7b5-5960-4932-8d35-0c2bf2a2595c"
      },
      "execution_count": 27,
      "outputs": [
        {
          "output_type": "stream",
          "name": "stdout",
          "text": [
            "\n",
            "Title: House, Forest Fire, & Car: A Cautionary Tale\n",
            " Count: 1\n",
            " Courses: ['ENGL 108']\n",
            " Sessions: ['2017[S1,W1,S2,W2]']\n",
            "\n",
            "Title: The Educator In The Forest\n",
            " Count: 1\n",
            " Courses: ['MUSI 641']\n",
            " Sessions: ['2016[S1,W1,S2,W2]']\n",
            "\n",
            "Title: The Forest Fire Century: A Compendium\n",
            " Count: 1\n",
            " Courses: ['ENGL 128']\n",
            " Sessions: ['2024[S1,W1,S2,W2]']\n",
            "\n",
            "Title: The Forest Fire Century: An Anthology\n",
            " Count: 1\n",
            " Courses: ['CRWT 298']\n",
            " Sessions: ['2024[S1,W1,S2,W2]']\n",
            "\n",
            "Title: The Forest Fire Decade: A Compendium\n",
            " Count: 1\n",
            " Courses: ['CRWT 114']\n",
            " Sessions: ['2016[S1,W1,S2,W2]']\n",
            "\n",
            "Title: The Forest Fire Year: A Survey\n",
            " Count: 1\n",
            " Courses: ['ARST 776']\n",
            " Sessions: ['2022[S1,W1,S2,W2]']\n",
            "\n",
            "Title: The Trendy Forest Fire\n",
            " Count: 1\n",
            " Courses: ['LIBR 921']\n",
            " Sessions: ['2023[S1,W1,S2,W2]']\n"
          ]
        }
      ]
    },
    {
      "cell_type": "markdown",
      "source": [
        "### Department/Course Report\n",
        "Generate a report showing which programs/departments are using LOCR and how many records they have each"
      ],
      "metadata": {
        "id": "w-ke_HETRqnm"
      }
    },
    {
      "cell_type": "code",
      "source": [
        "def get_department_report(department='*',bShow=True):\n",
        "  catalog = Catalog(df)\n",
        "  if department == '*':\n",
        "    catalog.sort('Course code')\n",
        "    results = catalog.get()\n",
        "  else:\n",
        "    results = catalog.search('Course code',department)\n",
        "\n",
        "  reports = []\n",
        "\n",
        "  if results == []:\n",
        "    print(f'No department titled {department} found.')\n",
        "    return reports\n",
        "\n",
        "  results.sort(key=lambda x: str(getattr(x,'Course code')))\n",
        "\n",
        "  last_title = ''\n",
        "  bFound = False\n",
        "\n",
        "  for entry in results:\n",
        "    if reports == []:\n",
        "      report = {'dept':getattr(entry,'Course code'),'count':1}\n",
        "      reports.append(report)\n",
        "    else:\n",
        "      bFound = False\n",
        "      for rep in reports:\n",
        "        if getattr(entry,'Course code') == rep['dept']:\n",
        "          rep['count'] = rep['count'] + 1\n",
        "          bFound = True\n",
        "\n",
        "      if bFound == False:\n",
        "        report = {'dept':getattr(entry,'Course code'),'count':1}\n",
        "        reports.append(report)\n",
        "\n",
        "  reports.sort(key=lambda x: x['count'],reverse=True)\n",
        "\n",
        "  df_reports = pd.DataFrame(reports)\n",
        "  df_reports.plot.barh(x='dept',y='count')\n",
        "\n",
        "\n",
        "  if bShow == True:\n",
        "    catsize = len(catalog.catalog)\n",
        "    print(f'\\nDepartments with Records: {len(reports)}')\n",
        "    print(f'Total records: {catsize}')\n",
        "    for rep in reports:\n",
        "      print(f'{rep[\"dept\"]} Count: {rep[\"count\"]} Presence:{(rep[\"count\"]/catsize):.1%}')\n",
        "\n",
        "  return reports"
      ],
      "metadata": {
        "id": "L9Bj8GXDGkJT"
      },
      "execution_count": 35,
      "outputs": []
    },
    {
      "cell_type": "markdown",
      "source": [
        "#### Generate Department/Course Report"
      ],
      "metadata": {
        "id": "N5bTvokLSkcr"
      }
    },
    {
      "cell_type": "code",
      "source": [
        "# You can call the function with specific courses\n",
        "results = get_department_report('ENGL')"
      ],
      "metadata": {
        "colab": {
          "base_uri": "https://localhost:8080/",
          "height": 499
        },
        "id": "xEM9VLg1SvhG",
        "outputId": "e7738f34-3ec3-4d04-b80b-b462398c7f63"
      },
      "execution_count": 36,
      "outputs": [
        {
          "output_type": "stream",
          "name": "stdout",
          "text": [
            "\n",
            "Departments with Records: 1\n",
            "Total records: 100\n",
            "ENGL Count: 14 Presence:14.0%\n"
          ]
        },
        {
          "output_type": "display_data",
          "data": {
            "text/plain": [
              "<Figure size 640x480 with 1 Axes>"
            ],
            "image/png": "[encoded data removed]"
          },
          "metadata": {}
        }
      ]
    },
    {
      "cell_type": "code",
      "source": [
        "# Calling the function without a course/department id will list all of the courses/departments in LOCR\n",
        "results = get_department_report()"
      ],
      "metadata": {
        "id": "qzm1GPkOn-0Q",
        "colab": {
          "base_uri": "https://localhost:8080/",
          "height": 621
        },
        "outputId": "73e74492-3307-420a-c99c-bfa2a64a95c8"
      },
      "execution_count": 37,
      "outputs": [
        {
          "output_type": "stream",
          "name": "stdout",
          "text": [
            "\n",
            "Departments with Records: 8\n",
            "Total records: 100\n",
            "CRWT Count: 16 Presence:16.0%\n",
            "HIST Count: 16 Presence:16.0%\n",
            "ENGL Count: 14 Presence:14.0%\n",
            "ARST Count: 12 Presence:12.0%\n",
            "LIBR Count: 12 Presence:12.0%\n",
            "MUSI Count: 11 Presence:11.0%\n",
            "MATH Count: 10 Presence:10.0%\n",
            "SPAN Count: 9 Presence:9.0%\n"
          ]
        },
        {
          "output_type": "display_data",
          "data": {
            "text/plain": [
              "<Figure size 640x480 with 1 Axes>"
            ],
            "image/png": "[encoded data removed]"
          },
          "metadata": {}
        }
      ]
    },
    {
      "cell_type": "code",
      "source": [
        "def get_publisher_report(publisher='*',bShow=True):\n",
        "  catalog = Catalog(df)\n",
        "  if publisher == '*':\n",
        "    catalog.sort('Publisher')\n",
        "    results = catalog.get()\n",
        "  else:\n",
        "    results = catalog.search('Publisher',publisher)\n",
        "  reports = count_by_column(results,'Publisher')\n",
        "  if bShow == True:\n",
        "    for rep in reports:\n",
        "      print(f'{rep[\"Publisher\"]} Count: {rep[\"count\"]}')\n",
        "  return reports"
      ],
      "metadata": {
        "id": "PnQuuc6YKvVi"
      },
      "execution_count": 38,
      "outputs": []
    },
    {
      "cell_type": "markdown",
      "source": [
        "#### Generate Publisher Report\n",
        "Search for a particular publisher, part of a publisher's name, or leave blank to list all publishers"
      ],
      "metadata": {
        "id": "_GeL6p_JWjgX"
      }
    },
    {
      "cell_type": "code",
      "source": [
        "results = get_publisher_report()"
      ],
      "metadata": {
        "colab": {
          "base_uri": "https://localhost:8080/"
        },
        "id": "hrdbO9a2LCOd",
        "outputId": "98f3b48e-3a4a-473e-dd5a-28542b5eb282"
      },
      "execution_count": 39,
      "outputs": [
        {
          "output_type": "stream",
          "name": "stdout",
          "text": [
            "UBC Press Count: 15\n",
            "Brick Books Count: 15\n",
            "UC Berkeley Press Count: 14\n",
            "Heyday Books Count: 13\n",
            "Taylor & Francis Count: 11\n",
            "MIT Press Count: 11\n",
            "Yale University Press Count: 10\n",
            "UCLA Press Count: 7\n",
            "Doubleday Books Count: 4\n"
          ]
        }
      ]
    }
  ]
}